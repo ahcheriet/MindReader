{
 "cells": [
  {
   "cell_type": "markdown",
   "metadata": {},
   "source": [
    "# Mind Reading:\n",
    "## Using Artificial Neural Nets to Predict Viewed Image Categories From EEG Readings\n",
    "This notebook provides a convolutional neural network (CNN) as an alternative to the linear discriminant analysis used in this study: https://purl.stanford.edu/bq914sc3730"
   ]
  },
  {
   "cell_type": "markdown",
   "metadata": {},
   "source": [
    "### Data Download"
   ]
  },
  {
   "cell_type": "code",
   "execution_count": 1,
   "metadata": {
    "collapsed": false
   },
   "outputs": [
    {
     "name": "stdout",
     "output_type": "stream",
     "text": [
      "File `data/Kaneshiro_etAl_objectCategoryEEG.zip' already there; not retrieving.\n",
      "Archive:  data/Kaneshiro_etAl_objectCategoryEEG.zip\n"
     ]
    }
   ],
   "source": [
    "data_path = \"data\"\n",
    "basename = \"Kaneshiro_etAl_objectCategoryEEG\"\n",
    "filename = basename + \".zip\"\n",
    "\n",
    "!mkdir -p {data_path}\n",
    "!wget -nc https://stacks.stanford.edu/file/druid:bq914sc3730/{filename} -O {data_path}/{filename}\n",
    "!unzip -n {data_path}/{filename} -d {data_path}"
   ]
  },
  {
   "cell_type": "markdown",
   "metadata": {},
   "source": [
    "### Data Exploration\n",
    "There are 10 MATLAB files each corresponding to a human test subject."
   ]
  },
  {
   "cell_type": "code",
   "execution_count": 2,
   "metadata": {
    "collapsed": false
   },
   "outputs": [
    {
     "data": {
      "text/plain": [
       "{'Fs': array([[ 62.5]]),\n",
       " 'N': array([[32]], dtype=uint8),\n",
       " 'T': array([[5188]], dtype=uint16),\n",
       " 'X': array([[-0.26424164, -0.47586018, -0.47061757, ...,  0.05198565,\n",
       "          0.08307296, -0.04543913],\n",
       "        [ 0.0028675 , -0.04133774,  0.05108967, ...,  0.09525956,\n",
       "         -0.00872008,  0.12494965],\n",
       "        [-0.22358645,  0.02478356,  0.08543183, ...,  0.0938575 ,\n",
       "          0.06906053,  0.09690079],\n",
       "        ..., \n",
       "        [ 0.17795506, -0.06740315,  0.09080031, ..., -0.11675177,\n",
       "         -0.19592201, -0.16641006],\n",
       "        [ 0.18887348,  0.17863007,  0.32982534, ...,  0.10712342,\n",
       "          0.10700955,  0.0652873 ],\n",
       "        [ 0.02932549, -0.05199817, -0.15791252, ..., -0.09192452,\n",
       "         -0.04275392,  0.08084101]]),\n",
       " '__globals__': [],\n",
       " '__header__': b'MATLAB 5.0 MAT-file, Platform: MACI64, Created on: Fri Feb  6 14:21:30 2015',\n",
       " '__version__': '1.0',\n",
       " 'categoryLabels': array([[4, 6, 3, ..., 5, 1, 1]], dtype=uint8),\n",
       " 'exemplarLabels': array([[40, 64, 29, ..., 59,  3, 12]], dtype=uint8),\n",
       " 'sub': array(['S1'], \n",
       "       dtype='<U2')}"
      ]
     },
     "execution_count": 2,
     "metadata": {},
     "output_type": "execute_result"
    }
   ],
   "source": [
    "training_path = data_path + '/' + basename\n",
    "\n",
    "from scipy.io import loadmat\n",
    "\n",
    "subjects_count = 10\n",
    "subjects = []\n",
    "for i in range(0, subjects_count):\n",
    "    filename = \"S\" + str(i + 1) + \".mat\"\n",
    "    subjects.append(loadmat(training_path + \"/\" + filename))\n",
    "\n",
    "subjects[0]"
   ]
  },
  {
   "cell_type": "markdown",
   "metadata": {},
   "source": [
    "The README file found in the link above provides the data dictionary. Looking at the data for the first test subject above:\n",
    "* sampling frequency 'Fs' was 62.5 Hz\n",
    "* number of time samples 'N' per trial was 32, so each trial lasted (32 samples) / (62.5 samples per second) == 0.512 seconds\n",
    "* number of trials 'T' was 5188\n",
    "* X is the EEG data\n",
    "* 'categoryLabels' are the numbers corresponding to which type of image the test subject looked at for each trial\n",
    "\n",
    "Inspect the EEG data for the first trial of the first subject:"
   ]
  },
  {
   "cell_type": "code",
   "execution_count": 3,
   "metadata": {
    "collapsed": false
   },
   "outputs": [
    {
     "name": "stdout",
     "output_type": "stream",
     "text": [
      "(3968,)\n",
      "[-0.26424164 -0.47586018 -0.47061757 ...,  0.05198565  0.08307296\n",
      " -0.04543913]\n"
     ]
    }
   ],
   "source": [
    "trial1 = subjects[0]['X'][0]\n",
    "print(trial1.shape)\n",
    "print(trial1)"
   ]
  },
  {
   "cell_type": "markdown",
   "metadata": {},
   "source": [
    "The EEG device had 124 different electrodes surrounding the person's head. And each electrode took 32 samples, so 124 * 32 == 3968, which matches the shape of the trial1 variable as seen above."
   ]
  },
  {
   "cell_type": "code",
   "execution_count": 4,
   "metadata": {
    "collapsed": false
   },
   "outputs": [
    {
     "data": {
      "text/plain": [
       "<matplotlib.text.Text at 0x7fc247001940>"
      ]
     },
     "execution_count": 4,
     "metadata": {},
     "output_type": "execute_result"
    },
    {
     "data": {
      "image/png": "[encoded data removed]",
      "text/plain": [
       "<matplotlib.figure.Figure at 0x7fc307ce4080>"
      ]
     },
     "metadata": {},
     "output_type": "display_data"
    }
   ],
   "source": [
    "%matplotlib inline\n",
    "\n",
    "import matplotlib.pyplot as plt\n",
    "\n",
    "N = 32\n",
    "plt.plot(trial1[:N])\n",
    "plt.title(\"EEG Reading: Electrode 1, Trial 1, Subject 1\")"
   ]
  },
  {
   "cell_type": "markdown",
   "metadata": {},
   "source": [
    "#### Imagine each trial as a 32 x 124 heatmap image\n",
    "Might a CNN detect patterns in the images of each trial to correctly categorize them?"
   ]
  },
  {
   "cell_type": "code",
   "execution_count": 5,
   "metadata": {
    "collapsed": false
   },
   "outputs": [
    {
     "data": {
      "text/plain": [
       "<matplotlib.image.AxesImage at 0x7fc246edf898>"
      ]
     },
     "execution_count": 5,
     "metadata": {},
     "output_type": "execute_result"
    },
    {
     "data": {
      "image/png": "[encoded data removed]",
      "text/plain": [
       "<matplotlib.figure.Figure at 0x7fc246ff9278>"
      ]
     },
     "metadata": {},
     "output_type": "display_data"
    }
   ],
   "source": [
    "import numpy as np\n",
    "\n",
    "electrodes = 124\n",
    "trial_image = np.reshape(trial1, (electrodes, N))\n",
    "plt.imshow(trial_image, cmap='hot', interpolation='nearest')"
   ]
  },
  {
   "cell_type": "markdown",
   "metadata": {},
   "source": [
    "### Data Preparation\n",
    "\n",
    "Concatenate all trials and output target labels from the first 9 test subjects. The last subject will be our holdout/validation set.\n",
    "\n",
    "**Note:** In the original Stanford paper, it's not clear whether the authors ensured that EEG reading trials from the same test subject weren't in both the training and holdout sets. That condition is necessary in order to gauge the generalizeability of their classier onto new people."
   ]
  },
  {
   "cell_type": "code",
   "execution_count": 6,
   "metadata": {
    "collapsed": false
   },
   "outputs": [],
   "source": [
    "trials = np.concatenate([subjects[i]['X'] for i in range(9)])\n",
    "y_training = np.concatenate([subjects[i]['categoryLabels'][0] for i in range(9)])"
   ]
  },
  {
   "cell_type": "markdown",
   "metadata": {},
   "source": [
    "Double-check number of trials equals number of target output labels and inspect a few samples:"
   ]
  },
  {
   "cell_type": "code",
   "execution_count": 7,
   "metadata": {
    "collapsed": false
   },
   "outputs": [
    {
     "name": "stdout",
     "output_type": "stream",
     "text": [
      "46673 46673\n",
      "[4 6 3 ..., 5 2 4]\n"
     ]
    }
   ],
   "source": [
    "print(len(trials), len(y_training))\n",
    "print(y_training)"
   ]
  },
  {
   "cell_type": "code",
   "execution_count": 8,
   "metadata": {
    "collapsed": false
   },
   "outputs": [
    {
     "data": {
      "text/plain": [
       "array([-0.26424164, -0.47586018, -0.47061757, ...,  0.05198565,\n",
       "        0.08307296, -0.04543913])"
      ]
     },
     "execution_count": 8,
     "metadata": {},
     "output_type": "execute_result"
    }
   ],
   "source": [
    "trials[0]"
   ]
  },
  {
   "cell_type": "code",
   "execution_count": 9,
   "metadata": {
    "collapsed": false
   },
   "outputs": [
    {
     "data": {
      "text/plain": [
       "3968"
      ]
     },
     "execution_count": 9,
     "metadata": {},
     "output_type": "execute_result"
    }
   ],
   "source": [
    "len(trials[0])"
   ]
  },
  {
   "cell_type": "markdown",
   "metadata": {
    "collapsed": true
   },
   "source": [
    "### Define Training and Validation/Holdout Sets"
   ]
  },
  {
   "cell_type": "code",
   "execution_count": 10,
   "metadata": {
    "collapsed": false
   },
   "outputs": [
    {
     "name": "stdout",
     "output_type": "stream",
     "text": [
      "5184 [[ 0.63071699  0.53238287  0.56498052 ...,  0.02870825  0.02721558\n",
      "   0.34215394]\n",
      " [ 0.12276634  0.07957858  0.00199308 ..., -0.00191029 -0.05771172\n",
      "  -0.02692576]\n",
      " [-0.03659082 -0.08075532 -0.10016629 ..., -0.01577061  0.0127475\n",
      "   0.08241198]\n",
      " ..., \n",
      " [ 0.12776493  0.02066169 -0.11780883 ..., -0.00844402  0.10320733\n",
      "   0.06531146]\n",
      " [-0.24601796 -0.18427435 -0.02046263 ...,  0.20250326  0.26181931\n",
      "  -0.04597046]\n",
      " [ 0.16304573  0.0402427   0.02112196 ..., -0.018746    0.3735711\n",
      "   0.00758652]]\n"
     ]
    }
   ],
   "source": [
    "X_training = trials\n",
    "\n",
    "holdout_fold = subjects[9]\n",
    "X_validation = holdout_fold['X']\n",
    "print(len(X_validation), X_validation)"
   ]
  },
  {
   "cell_type": "code",
   "execution_count": 11,
   "metadata": {
    "collapsed": false
   },
   "outputs": [
    {
     "name": "stdout",
     "output_type": "stream",
     "text": [
      "5184 [1 6 1 ..., 6 4 6]\n"
     ]
    }
   ],
   "source": [
    "y_validation = holdout_fold['categoryLabels'][0]\n",
    "print(len(y_validation), y_validation)"
   ]
  },
  {
   "cell_type": "markdown",
   "metadata": {},
   "source": [
    "### Class Balance Check\n",
    "Are the image categories equally represented in the data? In the histograms below, we set the number of bins to twice the number of categories for better spacing."
   ]
  },
  {
   "cell_type": "code",
   "execution_count": 12,
   "metadata": {
    "collapsed": false
   },
   "outputs": [
    {
     "data": {
      "text/plain": [
       "(array([ 7787.,     0.,  7777.,     0.,  7778.,     0.,     0.,  7779.,\n",
       "            0.,  7776.,     0.,  7776.]),\n",
       " array([ 1.        ,  1.41666667,  1.83333333,  2.25      ,  2.66666667,\n",
       "         3.08333333,  3.5       ,  3.91666667,  4.33333333,  4.75      ,\n",
       "         5.16666667,  5.58333333,  6.        ]),\n",
       " <a list of 12 Patch objects>)"
      ]
     },
     "execution_count": 12,
     "metadata": {},
     "output_type": "execute_result"
    },
    {
     "data": {
      "image/png": "[encoded data removed]",
      "text/plain": [
       "<matplotlib.figure.Figure at 0x7fc2fc63ea20>"
      ]
     },
     "metadata": {},
     "output_type": "display_data"
    }
   ],
   "source": [
    "plt.hist(y_training, bins = 12)"
   ]
  },
  {
   "cell_type": "code",
   "execution_count": 13,
   "metadata": {
    "collapsed": false
   },
   "outputs": [
    {
     "data": {
      "text/plain": [
       "(array([ 864.,    0.,  864.,    0.,  864.,    0.,    0.,  864.,    0.,\n",
       "         864.,    0.,  864.]),\n",
       " array([ 1.        ,  1.41666667,  1.83333333,  2.25      ,  2.66666667,\n",
       "         3.08333333,  3.5       ,  3.91666667,  4.33333333,  4.75      ,\n",
       "         5.16666667,  5.58333333,  6.        ]),\n",
       " <a list of 12 Patch objects>)"
      ]
     },
     "execution_count": 13,
     "metadata": {},
     "output_type": "execute_result"
    },
    {
     "data": {
      "image/png": "[encoded data removed]",
      "text/plain": [
       "<matplotlib.figure.Figure at 0x7fc246f7aba8>"
      ]
     },
     "metadata": {},
     "output_type": "display_data"
    }
   ],
   "source": [
    "plt.hist(y_validation, bins=12)"
   ]
  },
  {
   "cell_type": "markdown",
   "metadata": {},
   "source": [
    "### Re-shape training and validation sets\n",
    "\n",
    "Transform into array of 32 x 124 grayscale \"heatmap\" images:"
   ]
  },
  {
   "cell_type": "code",
   "execution_count": 14,
   "metadata": {
    "collapsed": false
   },
   "outputs": [
    {
     "data": {
      "text/plain": [
       "(3968,)"
      ]
     },
     "execution_count": 14,
     "metadata": {},
     "output_type": "execute_result"
    }
   ],
   "source": [
    "X_training[0].shape"
   ]
  },
  {
   "cell_type": "code",
   "execution_count": 15,
   "metadata": {
    "collapsed": false
   },
   "outputs": [
    {
     "data": {
      "text/plain": [
       "(46673, 3968)"
      ]
     },
     "execution_count": 15,
     "metadata": {},
     "output_type": "execute_result"
    }
   ],
   "source": [
    "X_training.shape"
   ]
  },
  {
   "cell_type": "code",
   "execution_count": 16,
   "metadata": {
    "collapsed": false
   },
   "outputs": [
    {
     "data": {
      "text/plain": [
       "(46673, 124, 32, 1)"
      ]
     },
     "execution_count": 16,
     "metadata": {},
     "output_type": "execute_result"
    }
   ],
   "source": [
    "X_training = np.reshape(X_training, (-1, electrodes, N, 1)) # no color\n",
    "X_training.shape"
   ]
  },
  {
   "cell_type": "code",
   "execution_count": 17,
   "metadata": {
    "collapsed": false
   },
   "outputs": [
    {
     "name": "stdout",
     "output_type": "stream",
     "text": [
      "(5184, 3968)\n"
     ]
    },
    {
     "data": {
      "text/plain": [
       "(5184, 124, 32, 1)"
      ]
     },
     "execution_count": 17,
     "metadata": {},
     "output_type": "execute_result"
    }
   ],
   "source": [
    "print(X_validation.shape)\n",
    "X_validation = np.reshape(X_validation, (-1, electrodes, N, 1))\n",
    "X_validation.shape"
   ]
  },
  {
   "cell_type": "markdown",
   "metadata": {},
   "source": [
    "### 1-Hot Encode Target Output Labels"
   ]
  },
  {
   "cell_type": "code",
   "execution_count": 18,
   "metadata": {
    "collapsed": false
   },
   "outputs": [
    {
     "name": "stderr",
     "output_type": "stream",
     "text": [
      "Using TensorFlow backend.\n"
     ]
    }
   ],
   "source": [
    "import keras\n",
    "\n",
    "num_classes = 6\n",
    "y_training1hot = keras.utils.to_categorical(y_training - 1, num_classes) # We subtract 1 to convert to 0-index\n",
    "y_validation1hot = keras.utils.to_categorical(y_validation - 1, num_classes)"
   ]
  },
  {
   "cell_type": "markdown",
   "metadata": {},
   "source": [
    "### CNN Model Definition and Training"
   ]
  },
  {
   "cell_type": "code",
   "execution_count": 19,
   "metadata": {
    "collapsed": false
   },
   "outputs": [
    {
     "name": "stdout",
     "output_type": "stream",
     "text": [
      "Train on 46673 samples, validate on 5184 samples\n",
      "Epoch 1/256\n",
      "46673/46673 [==============================] - 35s - loss: 1.7026 - acc: 0.2832 - val_loss: 1.7138 - val_acc: 0.2701\n",
      "Epoch 2/256\n",
      "46673/46673 [==============================] - 26s - loss: 1.5595 - acc: 0.3631 - val_loss: 1.7657 - val_acc: 0.2589\n",
      "Epoch 3/256\n",
      "46673/46673 [==============================] - 26s - loss: 1.4479 - acc: 0.4133 - val_loss: 1.7055 - val_acc: 0.2861\n",
      "Epoch 4/256\n",
      "46673/46673 [==============================] - 26s - loss: 1.3358 - acc: 0.4624 - val_loss: 1.7885 - val_acc: 0.2930\n",
      "Epoch 5/256\n",
      "46673/46673 [==============================] - 26s - loss: 1.2190 - acc: 0.5111 - val_loss: 2.0166 - val_acc: 0.2782\n",
      "Epoch 6/256\n",
      "46673/46673 [==============================] - 26s - loss: 1.1058 - acc: 0.5558 - val_loss: 2.3112 - val_acc: 0.2629\n",
      "Epoch 7/256\n",
      "46673/46673 [==============================] - 26s - loss: 1.0006 - acc: 0.5995 - val_loss: 2.3274 - val_acc: 0.2593\n",
      "Epoch 8/256\n",
      "46673/46673 [==============================] - 26s - loss: 0.9079 - acc: 0.6340 - val_loss: 2.5561 - val_acc: 0.2656\n",
      "Epoch 9/256\n",
      "46673/46673 [==============================] - 26s - loss: 0.8369 - acc: 0.6630 - val_loss: 2.8552 - val_acc: 0.2743\n",
      "Epoch 10/256\n",
      "46673/46673 [==============================] - 26s - loss: 0.7804 - acc: 0.6865 - val_loss: 2.9888 - val_acc: 0.2664\n",
      "Epoch 11/256\n",
      "46673/46673 [==============================] - 26s - loss: 0.7231 - acc: 0.7075 - val_loss: 3.3551 - val_acc: 0.2610\n",
      "Epoch 12/256\n",
      "46673/46673 [==============================] - 26s - loss: 0.6908 - acc: 0.7236 - val_loss: 3.5427 - val_acc: 0.2581\n",
      "Epoch 13/256\n",
      "46673/46673 [==============================] - 26s - loss: 0.6612 - acc: 0.7349 - val_loss: 3.6986 - val_acc: 0.2459\n",
      "Epoch 14/256\n",
      "46673/46673 [==============================] - 26s - loss: 0.6307 - acc: 0.7459 - val_loss: 3.8919 - val_acc: 0.2683\n",
      "Epoch 15/256\n",
      "46673/46673 [==============================] - 26s - loss: 0.6057 - acc: 0.7586 - val_loss: 3.7725 - val_acc: 0.2575\n",
      "Epoch 16/256\n",
      "46673/46673 [==============================] - 26s - loss: 0.5933 - acc: 0.7631 - val_loss: 3.5652 - val_acc: 0.2438\n",
      "Epoch 17/256\n",
      "46673/46673 [==============================] - 26s - loss: 0.5676 - acc: 0.7720 - val_loss: 4.6426 - val_acc: 0.2579\n",
      "Epoch 18/256\n",
      "46673/46673 [==============================] - 26s - loss: 0.5581 - acc: 0.7779 - val_loss: 4.1462 - val_acc: 0.2620\n",
      "Epoch 19/256\n",
      "46673/46673 [==============================] - 26s - loss: 0.5458 - acc: 0.7812 - val_loss: 4.7959 - val_acc: 0.2556\n",
      "Epoch 20/256\n",
      "46673/46673 [==============================] - 26s - loss: 0.5374 - acc: 0.7858 - val_loss: 4.0945 - val_acc: 0.2448\n",
      "Epoch 21/256\n",
      "46673/46673 [==============================] - 26s - loss: 0.5207 - acc: 0.7933 - val_loss: 4.7598 - val_acc: 0.2546\n",
      "Epoch 22/256\n",
      "46673/46673 [==============================] - 26s - loss: 0.5093 - acc: 0.7971 - val_loss: 4.8938 - val_acc: 0.2596\n",
      "Epoch 23/256\n",
      "46673/46673 [==============================] - 26s - loss: 0.5021 - acc: 0.8005 - val_loss: 4.7581 - val_acc: 0.2552\n",
      "Epoch 24/256\n",
      "46673/46673 [==============================] - 26s - loss: 0.4848 - acc: 0.8053 - val_loss: 4.7630 - val_acc: 0.2448\n",
      "Epoch 25/256\n",
      "46673/46673 [==============================] - 26s - loss: 0.4832 - acc: 0.8062 - val_loss: 4.3503 - val_acc: 0.2458\n",
      "Epoch 26/256\n",
      "46673/46673 [==============================] - 26s - loss: 0.4831 - acc: 0.8072 - val_loss: 5.0005 - val_acc: 0.2517\n",
      "Epoch 27/256\n",
      "46673/46673 [==============================] - 26s - loss: 0.4718 - acc: 0.8121 - val_loss: 5.3292 - val_acc: 0.2477\n",
      "Epoch 28/256\n",
      "46673/46673 [==============================] - 26s - loss: 0.4596 - acc: 0.8173 - val_loss: 5.2669 - val_acc: 0.2527\n",
      "Epoch 29/256\n",
      "46673/46673 [==============================] - 26s - loss: 0.4538 - acc: 0.8185 - val_loss: 5.4418 - val_acc: 0.2523\n",
      "Epoch 30/256\n",
      "46673/46673 [==============================] - 26s - loss: 0.4512 - acc: 0.8205 - val_loss: 4.9687 - val_acc: 0.2587\n",
      "Epoch 31/256\n",
      "46673/46673 [==============================] - 26s - loss: 0.4541 - acc: 0.8215 - val_loss: 4.9437 - val_acc: 0.2514\n",
      "Epoch 32/256\n",
      "46673/46673 [==============================] - 26s - loss: 0.4461 - acc: 0.8232 - val_loss: 5.5025 - val_acc: 0.2645\n",
      "Epoch 33/256\n",
      "46673/46673 [==============================] - 26s - loss: 0.4339 - acc: 0.8250 - val_loss: 4.7872 - val_acc: 0.2542\n",
      "Epoch 34/256\n",
      "46673/46673 [==============================] - 26s - loss: 0.4397 - acc: 0.8261 - val_loss: 5.3668 - val_acc: 0.2616\n",
      "Epoch 35/256\n",
      "46673/46673 [==============================] - 26s - loss: 0.4189 - acc: 0.8334 - val_loss: 5.8138 - val_acc: 0.2564\n",
      "Epoch 36/256\n",
      "46673/46673 [==============================] - 26s - loss: 0.4206 - acc: 0.8333 - val_loss: 5.3127 - val_acc: 0.2459\n",
      "Epoch 37/256\n",
      "46673/46673 [==============================] - 26s - loss: 0.4289 - acc: 0.8316 - val_loss: 5.5650 - val_acc: 0.2477\n",
      "Epoch 38/256\n",
      "46673/46673 [==============================] - 26s - loss: 0.4075 - acc: 0.8384 - val_loss: 5.3071 - val_acc: 0.2542\n",
      "Epoch 39/256\n",
      "46673/46673 [==============================] - 26s - loss: 0.4106 - acc: 0.8393 - val_loss: 5.5449 - val_acc: 0.2436\n",
      "Epoch 40/256\n",
      "46673/46673 [==============================] - 26s - loss: 0.4022 - acc: 0.8406 - val_loss: 5.9301 - val_acc: 0.2510\n",
      "Epoch 41/256\n",
      "46673/46673 [==============================] - 26s - loss: 0.4015 - acc: 0.8407 - val_loss: 5.9479 - val_acc: 0.2485\n",
      "Epoch 42/256\n",
      "46673/46673 [==============================] - 26s - loss: 0.3950 - acc: 0.8436 - val_loss: 5.5511 - val_acc: 0.2587\n",
      "Epoch 43/256\n",
      "46673/46673 [==============================] - 26s - loss: 0.3934 - acc: 0.8471 - val_loss: 5.7060 - val_acc: 0.2415\n",
      "Epoch 44/256\n",
      "46673/46673 [==============================] - 26s - loss: 0.3948 - acc: 0.8446 - val_loss: 5.5557 - val_acc: 0.2359\n",
      "Epoch 45/256\n",
      "46673/46673 [==============================] - 26s - loss: 0.3924 - acc: 0.8446 - val_loss: 5.8313 - val_acc: 0.2517\n",
      "Epoch 46/256\n",
      "46673/46673 [==============================] - 26s - loss: 0.3886 - acc: 0.8477 - val_loss: 6.1794 - val_acc: 0.2494\n",
      "Epoch 47/256\n",
      "46673/46673 [==============================] - 26s - loss: 0.3794 - acc: 0.8500 - val_loss: 6.7695 - val_acc: 0.2475\n",
      "Epoch 48/256\n",
      "46673/46673 [==============================] - 26s - loss: 0.3935 - acc: 0.8457 - val_loss: 5.9477 - val_acc: 0.2444\n",
      "Epoch 49/256\n",
      "46673/46673 [==============================] - 26s - loss: 0.3726 - acc: 0.8536 - val_loss: 5.8867 - val_acc: 0.2481\n",
      "Epoch 50/256\n",
      "46673/46673 [==============================] - 26s - loss: 0.3701 - acc: 0.8563 - val_loss: 5.7633 - val_acc: 0.2432\n",
      "Epoch 51/256\n",
      "46673/46673 [==============================] - 26s - loss: 0.3731 - acc: 0.8548 - val_loss: 5.7082 - val_acc: 0.2361\n",
      "Epoch 52/256\n",
      "46673/46673 [==============================] - 26s - loss: 0.3640 - acc: 0.8557 - val_loss: 5.7398 - val_acc: 0.2431\n",
      "Epoch 53/256\n",
      "46673/46673 [==============================] - 26s - loss: 0.3675 - acc: 0.8547 - val_loss: 5.6556 - val_acc: 0.2496\n",
      "Epoch 54/256\n",
      "46673/46673 [==============================] - 26s - loss: 0.3614 - acc: 0.8578 - val_loss: 6.0066 - val_acc: 0.2477\n",
      "Epoch 55/256\n",
      "46673/46673 [==============================] - 26s - loss: 0.3568 - acc: 0.8609 - val_loss: 5.9089 - val_acc: 0.2467\n",
      "Epoch 56/256\n",
      "46673/46673 [==============================] - 26s - loss: 0.3576 - acc: 0.8596 - val_loss: 6.3213 - val_acc: 0.2542\n",
      "Epoch 57/256\n",
      "46673/46673 [==============================] - 26s - loss: 0.3504 - acc: 0.8629 - val_loss: 6.2110 - val_acc: 0.2519\n",
      "Epoch 58/256\n",
      "46673/46673 [==============================] - 26s - loss: 0.3571 - acc: 0.8603 - val_loss: 6.2054 - val_acc: 0.2650\n",
      "Epoch 59/256\n",
      "46673/46673 [==============================] - 26s - loss: 0.3559 - acc: 0.8632 - val_loss: 5.8035 - val_acc: 0.2498\n",
      "Epoch 60/256\n",
      "46673/46673 [==============================] - 26s - loss: 0.3470 - acc: 0.8647 - val_loss: 5.8613 - val_acc: 0.2355\n",
      "Epoch 61/256\n",
      "46673/46673 [==============================] - 26s - loss: 0.3450 - acc: 0.8661 - val_loss: 6.2952 - val_acc: 0.2463\n",
      "Epoch 62/256\n",
      "46673/46673 [==============================] - 26s - loss: 0.3387 - acc: 0.8657 - val_loss: 6.4155 - val_acc: 0.2512\n",
      "Epoch 63/256\n",
      "46673/46673 [==============================] - 26s - loss: 0.3340 - acc: 0.8666 - val_loss: 6.3482 - val_acc: 0.2517\n",
      "Epoch 64/256\n",
      "46673/46673 [==============================] - 26s - loss: 0.3322 - acc: 0.8690 - val_loss: 6.2825 - val_acc: 0.2481\n",
      "Epoch 65/256\n",
      "46673/46673 [==============================] - 26s - loss: 0.3412 - acc: 0.8648 - val_loss: 6.4860 - val_acc: 0.2465\n",
      "Epoch 66/256\n",
      "46673/46673 [==============================] - 26s - loss: 0.3371 - acc: 0.8671 - val_loss: 6.4726 - val_acc: 0.2556\n",
      "Epoch 67/256\n",
      "46673/46673 [==============================] - 26s - loss: 0.3285 - acc: 0.8710 - val_loss: 6.8020 - val_acc: 0.2415\n",
      "Epoch 68/256\n",
      "46673/46673 [==============================] - 26s - loss: 0.3331 - acc: 0.8686 - val_loss: 6.0318 - val_acc: 0.2512\n",
      "Epoch 69/256\n",
      "46673/46673 [==============================] - 26s - loss: 0.3301 - acc: 0.8702 - val_loss: 6.2604 - val_acc: 0.2459\n",
      "Epoch 70/256\n",
      "46673/46673 [==============================] - 26s - loss: 0.3219 - acc: 0.8737 - val_loss: 6.9674 - val_acc: 0.2568\n",
      "Epoch 71/256\n",
      "46673/46673 [==============================] - 26s - loss: 0.3329 - acc: 0.8701 - val_loss: 6.5780 - val_acc: 0.2504\n",
      "Epoch 72/256\n",
      "46673/46673 [==============================] - 26s - loss: 0.3250 - acc: 0.8732 - val_loss: 6.4517 - val_acc: 0.2471\n",
      "Epoch 73/256\n",
      "46673/46673 [==============================] - 26s - loss: 0.3248 - acc: 0.8720 - val_loss: 6.3922 - val_acc: 0.2531\n",
      "Epoch 74/256\n",
      "46673/46673 [==============================] - 26s - loss: 0.3233 - acc: 0.8746 - val_loss: 6.5141 - val_acc: 0.2448\n",
      "Epoch 75/256\n",
      "46673/46673 [==============================] - 26s - loss: 0.3184 - acc: 0.8744 - val_loss: 6.2713 - val_acc: 0.2382\n",
      "Epoch 76/256\n",
      "46673/46673 [==============================] - 26s - loss: 0.3149 - acc: 0.8757 - val_loss: 6.0859 - val_acc: 0.2438\n",
      "Epoch 77/256\n",
      "46673/46673 [==============================] - 26s - loss: 0.3302 - acc: 0.8739 - val_loss: 6.3491 - val_acc: 0.2477\n",
      "Epoch 78/256\n",
      "46673/46673 [==============================] - 26s - loss: 0.3169 - acc: 0.8758 - val_loss: 7.1579 - val_acc: 0.2548\n",
      "Epoch 79/256\n",
      "46673/46673 [==============================] - 26s - loss: 0.3194 - acc: 0.8761 - val_loss: 6.6603 - val_acc: 0.2486\n",
      "Epoch 80/256\n",
      "46673/46673 [==============================] - 26s - loss: 0.3173 - acc: 0.8741 - val_loss: 6.6820 - val_acc: 0.2442\n",
      "Epoch 81/256\n",
      "46673/46673 [==============================] - 26s - loss: 0.3181 - acc: 0.8760 - val_loss: 5.9612 - val_acc: 0.2463\n",
      "Epoch 82/256\n",
      "46673/46673 [==============================] - 26s - loss: 0.3122 - acc: 0.8781 - val_loss: 6.4374 - val_acc: 0.2541\n",
      "Epoch 83/256\n",
      "46673/46673 [==============================] - 26s - loss: 0.3114 - acc: 0.8784 - val_loss: 7.0583 - val_acc: 0.2577\n",
      "Epoch 84/256\n",
      "46673/46673 [==============================] - 26s - loss: 0.3084 - acc: 0.8789 - val_loss: 6.5298 - val_acc: 0.2612\n",
      "Epoch 85/256\n",
      "46673/46673 [==============================] - 26s - loss: 0.3064 - acc: 0.8805 - val_loss: 6.3158 - val_acc: 0.2492\n",
      "Epoch 86/256\n",
      "46673/46673 [==============================] - 26s - loss: 0.3177 - acc: 0.8783 - val_loss: 6.7336 - val_acc: 0.2550\n",
      "Epoch 87/256\n",
      "46673/46673 [==============================] - 26s - loss: 0.2990 - acc: 0.8822 - val_loss: 7.1196 - val_acc: 0.2577\n",
      "Epoch 88/256\n",
      "46673/46673 [==============================] - 26s - loss: 0.3077 - acc: 0.8806 - val_loss: 6.7961 - val_acc: 0.2504\n",
      "Epoch 89/256\n",
      "46673/46673 [==============================] - 26s - loss: 0.3018 - acc: 0.8843 - val_loss: 6.9548 - val_acc: 0.2508\n",
      "Epoch 90/256\n",
      "46673/46673 [==============================] - 26s - loss: 0.3096 - acc: 0.8816 - val_loss: 6.7729 - val_acc: 0.2523\n",
      "Epoch 91/256\n",
      "46673/46673 [==============================] - 26s - loss: 0.3052 - acc: 0.8822 - val_loss: 6.6603 - val_acc: 0.2635\n",
      "Epoch 92/256\n",
      "46673/46673 [==============================] - 26s - loss: 0.2982 - acc: 0.8836 - val_loss: 6.7206 - val_acc: 0.2539\n",
      "Epoch 93/256\n",
      "46673/46673 [==============================] - 26s - loss: 0.3000 - acc: 0.8819 - val_loss: 6.7475 - val_acc: 0.2519\n",
      "Epoch 94/256\n",
      "46673/46673 [==============================] - 26s - loss: 0.3023 - acc: 0.8829 - val_loss: 6.4601 - val_acc: 0.2604\n",
      "Epoch 95/256\n",
      "46673/46673 [==============================] - 26s - loss: 0.3019 - acc: 0.8826 - val_loss: 6.8841 - val_acc: 0.2618\n",
      "Epoch 96/256\n",
      "46673/46673 [==============================] - 26s - loss: 0.2970 - acc: 0.8850 - val_loss: 6.6043 - val_acc: 0.2606\n",
      "Epoch 97/256\n",
      "46673/46673 [==============================] - 26s - loss: 0.2964 - acc: 0.8840 - val_loss: 6.7353 - val_acc: 0.2614\n",
      "Epoch 98/256\n",
      "46673/46673 [==============================] - 26s - loss: 0.3009 - acc: 0.8839 - val_loss: 6.5508 - val_acc: 0.2504\n",
      "Epoch 99/256\n",
      "46673/46673 [==============================] - 26s - loss: 0.2947 - acc: 0.8856 - val_loss: 7.3205 - val_acc: 0.2510\n",
      "Epoch 100/256\n",
      "46673/46673 [==============================] - 26s - loss: 0.2894 - acc: 0.8860 - val_loss: 6.6687 - val_acc: 0.2641\n",
      "Epoch 101/256\n",
      "46673/46673 [==============================] - 26s - loss: 0.2870 - acc: 0.8878 - val_loss: 6.5169 - val_acc: 0.2502\n",
      "Epoch 102/256\n",
      "46673/46673 [==============================] - 26s - loss: 0.2905 - acc: 0.8853 - val_loss: 6.8455 - val_acc: 0.2627\n",
      "Epoch 103/256\n",
      "46673/46673 [==============================] - 26s - loss: 0.2943 - acc: 0.8843 - val_loss: 7.5350 - val_acc: 0.2577\n",
      "Epoch 104/256\n",
      "46673/46673 [==============================] - 26s - loss: 0.2924 - acc: 0.8859 - val_loss: 7.4461 - val_acc: 0.2450\n",
      "Epoch 105/256\n",
      "46673/46673 [==============================] - 26s - loss: 0.2987 - acc: 0.8845 - val_loss: 6.7629 - val_acc: 0.2533\n",
      "Epoch 106/256\n",
      "46673/46673 [==============================] - 26s - loss: 0.2869 - acc: 0.8865 - val_loss: 6.8538 - val_acc: 0.2490\n",
      "Epoch 107/256\n",
      "46673/46673 [==============================] - 26s - loss: 0.2897 - acc: 0.8870 - val_loss: 6.8109 - val_acc: 0.2427\n",
      "Epoch 108/256\n",
      "46673/46673 [==============================] - 26s - loss: 0.2906 - acc: 0.8877 - val_loss: 6.2837 - val_acc: 0.2485\n",
      "Epoch 109/256\n",
      "46673/46673 [==============================] - 26s - loss: 0.2932 - acc: 0.8870 - val_loss: 7.4106 - val_acc: 0.2502\n",
      "Epoch 110/256\n",
      "46673/46673 [==============================] - 26s - loss: 0.2837 - acc: 0.8878 - val_loss: 7.1870 - val_acc: 0.2548\n",
      "Epoch 111/256\n",
      "46673/46673 [==============================] - 26s - loss: 0.2860 - acc: 0.8888 - val_loss: 6.9669 - val_acc: 0.2604\n",
      "Epoch 112/256\n",
      "46673/46673 [==============================] - 26s - loss: 0.2819 - acc: 0.8879 - val_loss: 6.7150 - val_acc: 0.2614\n",
      "Epoch 113/256\n",
      "46673/46673 [==============================] - 26s - loss: 0.2794 - acc: 0.8891 - val_loss: 6.9991 - val_acc: 0.2548\n",
      "Epoch 114/256\n",
      "46673/46673 [==============================] - 26s - loss: 0.2786 - acc: 0.8919 - val_loss: 6.9551 - val_acc: 0.2510\n",
      "Epoch 115/256\n",
      "46673/46673 [==============================] - 26s - loss: 0.2839 - acc: 0.8883 - val_loss: 6.8259 - val_acc: 0.2479\n",
      "Epoch 116/256\n",
      "46673/46673 [==============================] - 26s - loss: 0.2749 - acc: 0.8921 - val_loss: 7.0863 - val_acc: 0.2510\n",
      "Epoch 117/256\n",
      "46673/46673 [==============================] - 26s - loss: 0.2784 - acc: 0.8896 - val_loss: 6.8553 - val_acc: 0.2421\n",
      "Epoch 118/256\n",
      "46673/46673 [==============================] - 26s - loss: 0.2734 - acc: 0.8914 - val_loss: 7.2191 - val_acc: 0.2568\n",
      "Epoch 119/256\n",
      "46673/46673 [==============================] - 26s - loss: 0.2808 - acc: 0.8899 - val_loss: 7.0020 - val_acc: 0.2517\n",
      "Epoch 120/256\n",
      "46673/46673 [==============================] - 26s - loss: 0.2790 - acc: 0.8915 - val_loss: 7.5974 - val_acc: 0.2448\n",
      "Epoch 121/256\n",
      "46673/46673 [==============================] - 26s - loss: 0.2751 - acc: 0.8932 - val_loss: 7.0181 - val_acc: 0.2541\n",
      "Epoch 122/256\n",
      "46673/46673 [==============================] - 26s - loss: 0.2726 - acc: 0.8914 - val_loss: 7.3488 - val_acc: 0.2579\n",
      "Epoch 123/256\n",
      "46673/46673 [==============================] - 26s - loss: 0.2602 - acc: 0.8959 - val_loss: 7.5878 - val_acc: 0.2639\n",
      "Epoch 124/256\n",
      "46673/46673 [==============================] - 26s - loss: 0.2679 - acc: 0.8940 - val_loss: 7.3761 - val_acc: 0.2475\n",
      "Epoch 125/256\n",
      "46673/46673 [==============================] - 26s - loss: 0.2743 - acc: 0.8923 - val_loss: 7.0634 - val_acc: 0.2523\n",
      "Epoch 126/256\n",
      "46673/46673 [==============================] - 26s - loss: 0.2733 - acc: 0.8922 - val_loss: 7.5601 - val_acc: 0.2581\n",
      "Epoch 127/256\n",
      "46673/46673 [==============================] - 26s - loss: 0.2724 - acc: 0.8932 - val_loss: 7.4343 - val_acc: 0.2683\n",
      "Epoch 128/256\n",
      "46673/46673 [==============================] - 26s - loss: 0.2677 - acc: 0.8955 - val_loss: 7.5643 - val_acc: 0.2612\n",
      "Epoch 129/256\n",
      "46673/46673 [==============================] - 26s - loss: 0.2650 - acc: 0.8949 - val_loss: 7.3442 - val_acc: 0.2564\n",
      "Epoch 130/256\n",
      "46673/46673 [==============================] - 26s - loss: 0.2702 - acc: 0.8960 - val_loss: 7.1384 - val_acc: 0.2504\n",
      "Epoch 131/256\n",
      "46673/46673 [==============================] - 26s - loss: 0.2697 - acc: 0.8932 - val_loss: 7.1678 - val_acc: 0.2537\n",
      "Epoch 132/256\n",
      "46673/46673 [==============================] - 26s - loss: 0.2647 - acc: 0.8965 - val_loss: 7.2547 - val_acc: 0.2485\n",
      "Epoch 133/256\n",
      "46673/46673 [==============================] - 26s - loss: 0.2696 - acc: 0.8963 - val_loss: 7.1839 - val_acc: 0.2558\n",
      "Epoch 134/256\n",
      "46673/46673 [==============================] - 26s - loss: 0.2672 - acc: 0.8951 - val_loss: 7.9513 - val_acc: 0.2521\n",
      "Epoch 135/256\n",
      "46673/46673 [==============================] - 26s - loss: 0.2644 - acc: 0.8955 - val_loss: 7.5040 - val_acc: 0.2483\n",
      "Epoch 136/256\n",
      "46673/46673 [==============================] - 26s - loss: 0.2658 - acc: 0.8966 - val_loss: 7.3723 - val_acc: 0.2560\n",
      "Epoch 137/256\n",
      "46673/46673 [==============================] - 26s - loss: 0.2610 - acc: 0.8965 - val_loss: 7.3516 - val_acc: 0.2517\n",
      "Epoch 138/256\n",
      "46673/46673 [==============================] - 26s - loss: 0.2619 - acc: 0.8969 - val_loss: 7.4964 - val_acc: 0.2614\n",
      "Epoch 139/256\n",
      "46673/46673 [==============================] - 26s - loss: 0.2625 - acc: 0.8971 - val_loss: 7.5395 - val_acc: 0.2556\n",
      "Epoch 140/256\n",
      "46673/46673 [==============================] - 26s - loss: 0.2568 - acc: 0.8993 - val_loss: 7.2171 - val_acc: 0.2473\n",
      "Epoch 141/256\n",
      "46673/46673 [==============================] - 26s - loss: 0.2629 - acc: 0.8980 - val_loss: 7.7103 - val_acc: 0.2568\n",
      "Epoch 142/256\n",
      "46673/46673 [==============================] - 26s - loss: 0.2701 - acc: 0.8964 - val_loss: 7.3265 - val_acc: 0.2535\n",
      "Epoch 143/256\n",
      "46673/46673 [==============================] - 26s - loss: 0.2620 - acc: 0.8991 - val_loss: 6.9859 - val_acc: 0.2573\n",
      "Epoch 144/256\n",
      "46673/46673 [==============================] - 26s - loss: 0.2644 - acc: 0.8987 - val_loss: 7.5218 - val_acc: 0.2546\n",
      "Epoch 145/256\n",
      "46673/46673 [==============================] - 26s - loss: 0.2634 - acc: 0.8984 - val_loss: 7.0804 - val_acc: 0.2616\n",
      "Epoch 146/256\n",
      "46673/46673 [==============================] - 26s - loss: 0.2623 - acc: 0.8969 - val_loss: 7.7758 - val_acc: 0.2635\n",
      "Epoch 147/256\n",
      "46673/46673 [==============================] - 26s - loss: 0.2549 - acc: 0.9004 - val_loss: 7.4837 - val_acc: 0.2566\n",
      "Epoch 148/256\n",
      "46673/46673 [==============================] - 26s - loss: 0.2568 - acc: 0.8978 - val_loss: 7.7790 - val_acc: 0.2575\n",
      "Epoch 149/256\n",
      "46673/46673 [==============================] - 26s - loss: 0.2601 - acc: 0.8981 - val_loss: 7.3305 - val_acc: 0.2548\n",
      "Epoch 150/256\n",
      "46673/46673 [==============================] - 26s - loss: 0.2519 - acc: 0.9002 - val_loss: 6.7765 - val_acc: 0.2560\n",
      "Epoch 151/256\n",
      "46673/46673 [==============================] - 26s - loss: 0.2540 - acc: 0.8997 - val_loss: 7.2379 - val_acc: 0.2527\n",
      "Epoch 152/256\n",
      "46673/46673 [==============================] - 26s - loss: 0.2603 - acc: 0.8993 - val_loss: 7.3275 - val_acc: 0.2641\n",
      "Epoch 153/256\n",
      "46673/46673 [==============================] - 26s - loss: 0.2592 - acc: 0.8997 - val_loss: 7.4718 - val_acc: 0.2531\n",
      "Epoch 154/256\n",
      "46673/46673 [==============================] - 26s - loss: 0.2527 - acc: 0.8997 - val_loss: 7.3373 - val_acc: 0.2504\n",
      "Epoch 155/256\n",
      "46673/46673 [==============================] - 26s - loss: 0.2544 - acc: 0.9004 - val_loss: 7.3462 - val_acc: 0.2649\n",
      "Epoch 156/256\n",
      "46673/46673 [==============================] - 26s - loss: 0.2589 - acc: 0.8996 - val_loss: 7.6300 - val_acc: 0.2635\n",
      "Epoch 157/256\n",
      "46673/46673 [==============================] - 26s - loss: 0.2626 - acc: 0.8987 - val_loss: 7.1061 - val_acc: 0.2456\n",
      "Epoch 158/256\n",
      "46673/46673 [==============================] - 26s - loss: 0.2620 - acc: 0.8994 - val_loss: 7.5301 - val_acc: 0.2652\n",
      "Epoch 159/256\n",
      "46673/46673 [==============================] - 26s - loss: 0.2507 - acc: 0.9019 - val_loss: 7.6929 - val_acc: 0.2591\n",
      "Epoch 160/256\n",
      "46673/46673 [==============================] - 26s - loss: 0.2502 - acc: 0.9032 - val_loss: 7.5494 - val_acc: 0.2598\n",
      "Epoch 161/256\n",
      "46673/46673 [==============================] - 26s - loss: 0.2547 - acc: 0.9006 - val_loss: 7.7551 - val_acc: 0.2598\n",
      "Epoch 162/256\n",
      "46673/46673 [==============================] - 26s - loss: 0.2477 - acc: 0.9018 - val_loss: 7.3422 - val_acc: 0.2604\n",
      "Epoch 163/256\n",
      "46673/46673 [==============================] - 26s - loss: 0.2455 - acc: 0.9029 - val_loss: 8.1961 - val_acc: 0.2477\n",
      "Epoch 164/256\n",
      "46673/46673 [==============================] - 26s - loss: 0.2542 - acc: 0.9018 - val_loss: 7.4290 - val_acc: 0.2560\n",
      "Epoch 165/256\n",
      "46673/46673 [==============================] - 26s - loss: 0.2495 - acc: 0.9028 - val_loss: 7.1764 - val_acc: 0.2488\n",
      "Epoch 166/256\n",
      "46673/46673 [==============================] - 26s - loss: 0.2551 - acc: 0.9010 - val_loss: 7.5923 - val_acc: 0.2558\n",
      "Epoch 167/256\n",
      "46673/46673 [==============================] - 26s - loss: 0.2503 - acc: 0.9027 - val_loss: 7.7295 - val_acc: 0.2531\n",
      "Epoch 168/256\n",
      "46673/46673 [==============================] - 26s - loss: 0.2418 - acc: 0.9040 - val_loss: 7.9405 - val_acc: 0.2506\n",
      "Epoch 169/256\n",
      "46673/46673 [==============================] - 26s - loss: 0.2502 - acc: 0.9027 - val_loss: 7.9326 - val_acc: 0.2554\n",
      "Epoch 170/256\n",
      "46673/46673 [==============================] - 26s - loss: 0.2484 - acc: 0.9027 - val_loss: 7.8746 - val_acc: 0.2587\n",
      "Epoch 171/256\n",
      "46673/46673 [==============================] - 26s - loss: 0.2582 - acc: 0.9002 - val_loss: 7.6385 - val_acc: 0.2515\n",
      "Epoch 172/256\n",
      "46673/46673 [==============================] - 26s - loss: 0.2540 - acc: 0.9020 - val_loss: 7.5784 - val_acc: 0.2587\n",
      "Epoch 173/256\n",
      "46673/46673 [==============================] - 26s - loss: 0.2448 - acc: 0.9038 - val_loss: 7.6730 - val_acc: 0.2550\n",
      "Epoch 174/256\n",
      "46673/46673 [==============================] - 26s - loss: 0.2470 - acc: 0.9042 - val_loss: 7.6031 - val_acc: 0.2627\n",
      "Epoch 175/256\n",
      "46673/46673 [==============================] - 26s - loss: 0.2467 - acc: 0.9045 - val_loss: 7.7037 - val_acc: 0.2685\n",
      "Epoch 176/256\n",
      "46673/46673 [==============================] - 26s - loss: 0.2401 - acc: 0.9061 - val_loss: 7.9876 - val_acc: 0.2649\n",
      "Epoch 177/256\n",
      "46673/46673 [==============================] - 26s - loss: 0.2467 - acc: 0.9029 - val_loss: 7.6552 - val_acc: 0.2602\n",
      "Epoch 178/256\n",
      "46673/46673 [==============================] - 26s - loss: 0.2494 - acc: 0.9037 - val_loss: 7.8685 - val_acc: 0.2539\n",
      "Epoch 179/256\n",
      "46673/46673 [==============================] - 26s - loss: 0.2393 - acc: 0.9077 - val_loss: 7.5160 - val_acc: 0.2637\n",
      "Epoch 180/256\n",
      "46673/46673 [==============================] - 26s - loss: 0.2381 - acc: 0.9069 - val_loss: 7.9477 - val_acc: 0.2539\n",
      "Epoch 181/256\n",
      "46673/46673 [==============================] - 26s - loss: 0.2470 - acc: 0.9027 - val_loss: 7.1114 - val_acc: 0.2650\n",
      "Epoch 182/256\n",
      "46673/46673 [==============================] - 26s - loss: 0.2407 - acc: 0.9039 - val_loss: 7.4253 - val_acc: 0.2631\n",
      "Epoch 183/256\n",
      "46673/46673 [==============================] - 26s - loss: 0.2470 - acc: 0.9025 - val_loss: 7.3636 - val_acc: 0.2539\n",
      "Epoch 184/256\n",
      "46673/46673 [==============================] - 26s - loss: 0.2376 - acc: 0.9065 - val_loss: 7.4274 - val_acc: 0.2560\n",
      "Epoch 185/256\n",
      "46673/46673 [==============================] - 26s - loss: 0.2474 - acc: 0.9049 - val_loss: 7.2254 - val_acc: 0.2569\n",
      "Epoch 186/256\n",
      "46673/46673 [==============================] - 26s - loss: 0.2428 - acc: 0.9040 - val_loss: 7.8395 - val_acc: 0.2674\n",
      "Epoch 187/256\n",
      "46673/46673 [==============================] - 26s - loss: 0.2440 - acc: 0.9045 - val_loss: 7.6780 - val_acc: 0.2571\n",
      "Epoch 188/256\n",
      "46673/46673 [==============================] - 26s - loss: 0.2386 - acc: 0.9065 - val_loss: 8.0706 - val_acc: 0.2521\n",
      "Epoch 189/256\n",
      "46673/46673 [==============================] - 26s - loss: 0.2411 - acc: 0.9054 - val_loss: 7.7601 - val_acc: 0.2620\n",
      "Epoch 190/256\n",
      "46673/46673 [==============================] - 26s - loss: 0.2428 - acc: 0.9031 - val_loss: 8.3820 - val_acc: 0.2514\n",
      "Epoch 191/256\n",
      "46673/46673 [==============================] - 26s - loss: 0.2386 - acc: 0.9058 - val_loss: 7.9330 - val_acc: 0.2475\n",
      "Epoch 192/256\n",
      "46673/46673 [==============================] - 26s - loss: 0.2426 - acc: 0.9055 - val_loss: 7.8239 - val_acc: 0.2485\n",
      "Epoch 193/256\n",
      "46673/46673 [==============================] - 26s - loss: 0.2362 - acc: 0.9093 - val_loss: 7.9710 - val_acc: 0.2541\n",
      "Epoch 194/256\n",
      "46673/46673 [==============================] - 26s - loss: 0.2421 - acc: 0.9064 - val_loss: 6.9316 - val_acc: 0.2548\n",
      "Epoch 195/256\n",
      "46673/46673 [==============================] - 26s - loss: 0.2421 - acc: 0.9037 - val_loss: 7.6155 - val_acc: 0.2591\n",
      "Epoch 196/256\n",
      "46673/46673 [==============================] - 26s - loss: 0.2376 - acc: 0.9069 - val_loss: 7.7908 - val_acc: 0.2579\n",
      "Epoch 197/256\n",
      "46673/46673 [==============================] - 26s - loss: 0.2390 - acc: 0.9075 - val_loss: 8.2052 - val_acc: 0.2620\n",
      "Epoch 198/256\n",
      "46673/46673 [==============================] - 26s - loss: 0.2313 - acc: 0.9090 - val_loss: 7.8099 - val_acc: 0.2622\n",
      "Epoch 199/256\n",
      "46673/46673 [==============================] - 26s - loss: 0.2402 - acc: 0.9055 - val_loss: 7.4632 - val_acc: 0.2535\n",
      "Epoch 200/256\n",
      "46673/46673 [==============================] - 26s - loss: 0.2375 - acc: 0.9059 - val_loss: 8.0190 - val_acc: 0.2479\n",
      "Epoch 201/256\n",
      "46673/46673 [==============================] - 26s - loss: 0.2345 - acc: 0.9066 - val_loss: 7.9266 - val_acc: 0.2508\n",
      "Epoch 202/256\n",
      "46673/46673 [==============================] - 26s - loss: 0.2326 - acc: 0.9075 - val_loss: 8.0327 - val_acc: 0.2467\n",
      "Epoch 203/256\n",
      "46673/46673 [==============================] - 26s - loss: 0.2394 - acc: 0.9083 - val_loss: 8.1521 - val_acc: 0.2483\n",
      "Epoch 204/256\n",
      "46673/46673 [==============================] - 26s - loss: 0.2352 - acc: 0.9084 - val_loss: 8.0271 - val_acc: 0.2627\n",
      "Epoch 205/256\n",
      "46673/46673 [==============================] - 26s - loss: 0.2331 - acc: 0.9080 - val_loss: 8.2076 - val_acc: 0.2600\n",
      "Epoch 206/256\n",
      "46673/46673 [==============================] - 26s - loss: 0.2267 - acc: 0.9090 - val_loss: 7.9945 - val_acc: 0.2558\n",
      "Epoch 207/256\n",
      "46673/46673 [==============================] - 26s - loss: 0.2354 - acc: 0.9081 - val_loss: 7.6409 - val_acc: 0.2587\n",
      "Epoch 208/256\n",
      "46673/46673 [==============================] - 26s - loss: 0.2389 - acc: 0.9073 - val_loss: 7.7621 - val_acc: 0.2498\n",
      "Epoch 209/256\n",
      "46673/46673 [==============================] - 26s - loss: 0.2300 - acc: 0.9095 - val_loss: 8.1022 - val_acc: 0.2558\n",
      "Epoch 210/256\n",
      "46673/46673 [==============================] - 26s - loss: 0.2321 - acc: 0.9096 - val_loss: 7.8894 - val_acc: 0.2556\n",
      "Epoch 211/256\n",
      "46673/46673 [==============================] - 26s - loss: 0.2284 - acc: 0.9085 - val_loss: 8.3210 - val_acc: 0.2448\n",
      "Epoch 212/256\n",
      "46673/46673 [==============================] - 26s - loss: 0.2262 - acc: 0.9108 - val_loss: 7.8635 - val_acc: 0.2456\n",
      "Epoch 213/256\n",
      "46673/46673 [==============================] - 26s - loss: 0.2346 - acc: 0.9086 - val_loss: 8.3320 - val_acc: 0.2552\n",
      "Epoch 214/256\n",
      "46673/46673 [==============================] - 26s - loss: 0.2375 - acc: 0.9097 - val_loss: 7.6164 - val_acc: 0.2512\n",
      "Epoch 215/256\n",
      "46673/46673 [==============================] - 26s - loss: 0.2465 - acc: 0.9039 - val_loss: 8.0363 - val_acc: 0.2598\n",
      "Epoch 216/256\n",
      "46673/46673 [==============================] - 26s - loss: 0.2326 - acc: 0.9086 - val_loss: 8.0465 - val_acc: 0.2515\n",
      "Epoch 217/256\n",
      "46673/46673 [==============================] - 26s - loss: 0.2287 - acc: 0.9102 - val_loss: 8.0604 - val_acc: 0.2535\n",
      "Epoch 218/256\n",
      "46673/46673 [==============================] - 26s - loss: 0.2316 - acc: 0.9099 - val_loss: 7.7984 - val_acc: 0.2645\n",
      "Epoch 219/256\n",
      "46673/46673 [==============================] - 26s - loss: 0.2355 - acc: 0.9100 - val_loss: 7.6291 - val_acc: 0.2614\n",
      "Epoch 220/256\n",
      "46673/46673 [==============================] - 26s - loss: 0.2269 - acc: 0.9111 - val_loss: 7.9873 - val_acc: 0.2531\n",
      "Epoch 221/256\n",
      "46673/46673 [==============================] - 26s - loss: 0.2269 - acc: 0.9111 - val_loss: 8.2179 - val_acc: 0.2504\n",
      "Epoch 222/256\n",
      "46673/46673 [==============================] - 26s - loss: 0.2219 - acc: 0.9120 - val_loss: 8.1124 - val_acc: 0.2627\n",
      "Epoch 223/256\n",
      "46673/46673 [==============================] - 26s - loss: 0.2234 - acc: 0.9128 - val_loss: 8.4306 - val_acc: 0.2475\n",
      "Epoch 224/256\n",
      "46673/46673 [==============================] - 26s - loss: 0.2274 - acc: 0.9108 - val_loss: 8.3403 - val_acc: 0.2541\n",
      "Epoch 225/256\n",
      "46673/46673 [==============================] - 26s - loss: 0.2267 - acc: 0.9130 - val_loss: 8.7642 - val_acc: 0.2475\n",
      "Epoch 226/256\n",
      "46673/46673 [==============================] - 26s - loss: 0.2365 - acc: 0.9077 - val_loss: 8.3579 - val_acc: 0.2600\n",
      "Epoch 227/256\n",
      "46673/46673 [==============================] - 26s - loss: 0.2270 - acc: 0.9116 - val_loss: 8.5733 - val_acc: 0.2486\n",
      "Epoch 228/256\n",
      "46673/46673 [==============================] - 26s - loss: 0.2273 - acc: 0.9114 - val_loss: 7.8707 - val_acc: 0.2448\n",
      "Epoch 229/256\n",
      "46673/46673 [==============================] - 26s - loss: 0.2342 - acc: 0.9098 - val_loss: 7.9513 - val_acc: 0.2542\n",
      "Epoch 230/256\n",
      "46673/46673 [==============================] - 26s - loss: 0.2237 - acc: 0.9125 - val_loss: 7.9261 - val_acc: 0.2537\n",
      "Epoch 231/256\n",
      "46673/46673 [==============================] - 26s - loss: 0.2263 - acc: 0.9114 - val_loss: 8.2274 - val_acc: 0.2527\n",
      "Epoch 232/256\n",
      "46673/46673 [==============================] - 26s - loss: 0.2276 - acc: 0.9110 - val_loss: 7.6262 - val_acc: 0.2496\n",
      "Epoch 233/256\n",
      "46673/46673 [==============================] - 26s - loss: 0.2289 - acc: 0.9094 - val_loss: 8.2121 - val_acc: 0.2504\n",
      "Epoch 234/256\n",
      "46673/46673 [==============================] - 26s - loss: 0.2215 - acc: 0.9133 - val_loss: 8.0980 - val_acc: 0.2556\n",
      "Epoch 235/256\n",
      "46673/46673 [==============================] - 26s - loss: 0.2309 - acc: 0.9103 - val_loss: 7.8823 - val_acc: 0.2454\n",
      "Epoch 236/256\n",
      "46673/46673 [==============================] - 26s - loss: 0.2285 - acc: 0.9101 - val_loss: 8.4903 - val_acc: 0.2529\n",
      "Epoch 237/256\n",
      "46673/46673 [==============================] - 26s - loss: 0.2197 - acc: 0.9133 - val_loss: 7.9376 - val_acc: 0.2544\n",
      "Epoch 238/256\n",
      "46673/46673 [==============================] - 26s - loss: 0.2265 - acc: 0.9102 - val_loss: 8.1978 - val_acc: 0.2593\n",
      "Epoch 239/256\n",
      "46673/46673 [==============================] - 26s - loss: 0.2322 - acc: 0.9084 - val_loss: 7.5945 - val_acc: 0.2519\n",
      "Epoch 240/256\n",
      "46673/46673 [==============================] - 26s - loss: 0.2265 - acc: 0.9099 - val_loss: 7.7812 - val_acc: 0.2558\n",
      "Epoch 241/256\n",
      "46673/46673 [==============================] - 26s - loss: 0.2251 - acc: 0.9112 - val_loss: 7.9054 - val_acc: 0.2552\n",
      "Epoch 242/256\n",
      "46673/46673 [==============================] - 26s - loss: 0.2255 - acc: 0.9110 - val_loss: 7.9303 - val_acc: 0.2581\n",
      "Epoch 243/256\n",
      "46673/46673 [==============================] - 26s - loss: 0.2242 - acc: 0.9132 - val_loss: 7.9634 - val_acc: 0.2573\n",
      "Epoch 244/256\n",
      "46673/46673 [==============================] - 26s - loss: 0.2222 - acc: 0.9128 - val_loss: 8.5536 - val_acc: 0.2527\n",
      "Epoch 245/256\n",
      "46673/46673 [==============================] - 26s - loss: 0.2357 - acc: 0.9085 - val_loss: 7.8919 - val_acc: 0.2440\n",
      "Epoch 246/256\n",
      "46673/46673 [==============================] - 26s - loss: 0.2183 - acc: 0.9145 - val_loss: 8.2292 - val_acc: 0.2593\n",
      "Epoch 247/256\n",
      "46673/46673 [==============================] - 26s - loss: 0.2208 - acc: 0.9133 - val_loss: 8.0650 - val_acc: 0.2498\n",
      "Epoch 248/256\n",
      "46673/46673 [==============================] - 26s - loss: 0.2252 - acc: 0.9120 - val_loss: 8.3689 - val_acc: 0.2452\n",
      "Epoch 249/256\n",
      "46673/46673 [==============================] - 26s - loss: 0.2196 - acc: 0.9131 - val_loss: 7.7946 - val_acc: 0.2525\n",
      "Epoch 250/256\n",
      "46673/46673 [==============================] - 26s - loss: 0.2213 - acc: 0.9123 - val_loss: 7.6573 - val_acc: 0.2583\n",
      "Epoch 251/256\n",
      "46673/46673 [==============================] - 26s - loss: 0.2175 - acc: 0.9140 - val_loss: 8.2137 - val_acc: 0.2560\n",
      "Epoch 252/256\n",
      "46673/46673 [==============================] - 26s - loss: 0.2261 - acc: 0.9120 - val_loss: 8.4720 - val_acc: 0.2535\n",
      "Epoch 253/256\n",
      "46673/46673 [==============================] - 26s - loss: 0.2236 - acc: 0.9129 - val_loss: 8.7427 - val_acc: 0.2539\n",
      "Epoch 254/256\n",
      "46673/46673 [==============================] - 26s - loss: 0.2242 - acc: 0.9111 - val_loss: 8.5023 - val_acc: 0.2579\n",
      "Epoch 255/256\n",
      "46673/46673 [==============================] - 26s - loss: 0.2222 - acc: 0.9132 - val_loss: 7.9657 - val_acc: 0.2512\n",
      "Epoch 256/256\n",
      "46673/46673 [==============================] - 26s - loss: 0.2223 - acc: 0.9116 - val_loss: 7.4842 - val_acc: 0.2558\n"
     ]
    }
   ],
   "source": [
    "import keras\n",
    "from keras.models import Sequential\n",
    "from keras.layers import Dense, Dropout, Activation, Flatten\n",
    "from keras.layers import Conv2D\n",
    "\n",
    "model = Sequential()\n",
    "\n",
    "model.add(Conv2D(32, (3, 3), input_shape=X_training.shape[1:]))\n",
    "model.add(Activation('relu'))\n",
    "\n",
    "model.add(Flatten())\n",
    "model.add(Dense(128))\n",
    "model.add(Activation('relu'))\n",
    "model.add(Dropout(0.15))\n",
    "model.add(Dense(num_classes))\n",
    "model.add(Activation('softmax'))\n",
    "\n",
    "model.compile(loss='categorical_crossentropy',\n",
    "              optimizer='nadam',\n",
    "              metrics=['accuracy'])\n",
    "\n",
    "history = model.fit(X_training, y_training1hot, \n",
    "                    epochs=256, \n",
    "                    validation_data=(X_validation, y_validation1hot), \n",
    "                    shuffle=True)"
   ]
  },
  {
   "cell_type": "code",
   "execution_count": 20,
   "metadata": {
    "collapsed": true
   },
   "outputs": [],
   "source": [
    "model.save_weights('weights.hdf5')"
   ]
  },
  {
   "cell_type": "code",
   "execution_count": 21,
   "metadata": {
    "collapsed": false
   },
   "outputs": [
    {
     "data": {
      "image/png": "[encoded data removed]",
      "text/plain": [
       "<matplotlib.figure.Figure at 0x7fc1c31939e8>"
      ]
     },
     "metadata": {},
     "output_type": "display_data"
    }
   ],
   "source": [
    "plt.plot(history.history['acc'])\n",
    "plt.plot(history.history['val_acc'])\n",
    "plt.title('Accuracy over Time')\n",
    "plt.ylabel('accuracy')\n",
    "plt.xlabel('epoch')\n",
    "plt.legend(['training', 'validation'], loc='upper left')\n",
    "plt.show()"
   ]
  },
  {
   "cell_type": "markdown",
   "metadata": {},
   "source": [
    "The accuracy of the holdout set (i.e, last test subject) holds steady at 25%, which is better than random guessing (1 out of 6 image categories == 16.67%), while the accuracy continues to improve for the training set (the first 9 test subjects) although it seems to converging to 90% or so."
   ]
  },
  {
   "cell_type": "code",
   "execution_count": 22,
   "metadata": {
    "collapsed": false
   },
   "outputs": [
    {
     "data": {
      "image/png": "[encoded data removed]",
      "text/plain": [
       "<matplotlib.figure.Figure at 0x7fc1c0352e80>"
      ]
     },
     "metadata": {},
     "output_type": "display_data"
    }
   ],
   "source": [
    "plt.plot(history.history['loss'])\n",
    "plt.plot(history.history['val_loss'])\n",
    "plt.title('Cross Entropy Loss over Time')\n",
    "plt.ylabel('loss')\n",
    "plt.xlabel('epoch')\n",
    "plt.legend(['training', 'validation'], loc='upper left')\n",
    "plt.show()"
   ]
  },
  {
   "cell_type": "markdown",
   "metadata": {},
   "source": [
    "However, the cross entropy loss of the validation set increases.\n",
    "\n",
    "** Exercise for the reader:** Cross-validation"
   ]
  },
  {
   "cell_type": "markdown",
   "metadata": {},
   "source": [
    "### Model Quality Check: Confusion Matrix"
   ]
  },
  {
   "cell_type": "code",
   "execution_count": 23,
   "metadata": {
    "collapsed": false
   },
   "outputs": [
    {
     "name": "stdout",
     "output_type": "stream",
     "text": [
      "4832/5184 [==========================>...] - ETA: 0sConfusion matrix, without normalization\n",
      "[[185 136 141  89 134 179]\n",
      " [122 337 102  42 106 155]\n",
      " [106 138 214  91 159 156]\n",
      " [192 149 145 183  88 107]\n",
      " [160 116 144  98 192 154]\n",
      " [131 124 127  70 197 215]]\n"
     ]
    },
    {
     "data": {
      "image/png": "[encoded data removed]",
      "text/plain": [
       "<matplotlib.figure.Figure at 0x7fc2499e2be0>"
      ]
     },
     "metadata": {},
     "output_type": "display_data"
    }
   ],
   "source": [
    "import itertools\n",
    "from sklearn.metrics import confusion_matrix\n",
    "\n",
    "y_validation_predictions = model.predict(X_validation, verbose=1)\n",
    "\n",
    "def plot_confusion_matrix(cm, classes,\n",
    "                          normalize=False,\n",
    "                          title='Confusion matrix',\n",
    "                          cmap=plt.cm.Blues):\n",
    "    \"\"\"\n",
    "    This function prints and plots the confusion matrix.\n",
    "    Normalization can be applied by setting `normalize=True`.\n",
    "    \"\"\"\n",
    "    plt.imshow(cm, interpolation='nearest', cmap=cmap)\n",
    "    plt.title(title)\n",
    "    plt.colorbar()\n",
    "    tick_marks = np.arange(len(classes))\n",
    "    plt.xticks(tick_marks, classes, rotation=45)\n",
    "    plt.yticks(tick_marks, classes)\n",
    "\n",
    "    if normalize:\n",
    "        cm = cm.astype('float') / cm.sum(axis=1)[:, np.newaxis]\n",
    "        print(\"Normalized confusion matrix\")\n",
    "    else:\n",
    "        print('Confusion matrix, without normalization')\n",
    "\n",
    "    print(cm)\n",
    "\n",
    "    thresh = cm.max() / 2.\n",
    "    for i, j in itertools.product(range(cm.shape[0]), range(cm.shape[1])):\n",
    "        plt.text(j, i, cm[i, j],\n",
    "                 horizontalalignment=\"center\",\n",
    "                 color=\"white\" if cm[i, j] > thresh else \"black\")\n",
    "\n",
    "    plt.tight_layout()\n",
    "    plt.ylabel('True label')\n",
    "    plt.xlabel('Predicted label')\n",
    "\n",
    "cnf_matrix = confusion_matrix(y_validation - 1, np.argmax(y_validation_predictions, axis=1))\n",
    "\n",
    "plt.figure()\n",
    "class_names = ['Human Body', 'Human Face', 'Animal Body', 'Animal Face', 'Fruit Vegetable', 'Inanimate Object']\n",
    "plot_confusion_matrix(cnf_matrix, classes=class_names)"
   ]
  },
  {
   "cell_type": "markdown",
   "metadata": {},
   "source": [
    "The neuroscientists and psychologists that may be reading this are probably not surprised that human faces are easily recognized.\n",
    "## Where to go from here...\n",
    "We hope you expand upon this initial work on using artificial neural networks to analyze EEG data. In addition to adding cross-validation, as mentioned previously, might different neural network architectures and hyperparameters perform better? "
   ]
  }
 ],
 "metadata": {
  "anaconda-cloud": {},
  "kernelspec": {
   "display_name": "Python [default]",
   "language": "python",
   "name": "python3"
  },
  "language_info": {
   "codemirror_mode": {
    "name": "ipython",
    "version": 3.0
   },
   "file_extension": ".py",
   "mimetype": "text/x-python",
   "name": "python",
   "nbconvert_exporter": "python",
   "pygments_lexer": "ipython3",
   "version": "3.5.3"
  }
 },
 "nbformat": 4,
 "nbformat_minor": 0
}